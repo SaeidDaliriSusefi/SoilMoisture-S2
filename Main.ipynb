{
  "nbformat": 4,
  "nbformat_minor": 0,
  "metadata": {
    "colab": {
      "provenance": [],
      "authorship_tag": "ABX9TyNfsSiHfJUuw39jFLa10DeP",
      "include_colab_link": true
    },
    "kernelspec": {
      "name": "python3",
      "display_name": "Python 3"
    },
    "language_info": {
      "name": "python"
    }
  },
  "cells": [
    {
      "cell_type": "markdown",
      "metadata": {
        "id": "view-in-github",
        "colab_type": "text"
      },
      "source": [
        "<a href=\"https://colab.research.google.com/github/SaeidDaliriSusefi/SoilMoisture-S2/blob/main/Main.ipynb\" target=\"_parent\"><img src=\"https://colab.research.google.com/assets/colab-badge.svg\" alt=\"Open In Colab\"/></a>"
      ]
    },
    {
      "cell_type": "code",
      "execution_count": 2,
      "metadata": {
        "id": "KWN_yA2wbIzB"
      },
      "outputs": [],
      "source": [
        "import ee\n",
        "import geemap\n",
        "import numpy as np\n",
        "import matplotlib.pyplot as plt"
      ]
    },
    {
      "cell_type": "code",
      "source": [
        "ee.Authenticate()\n",
        "ee.Initialize(project=\"ee-saeiddalirisu\", opt_url='https://earthengine-highvolume.googleapis.com')"
      ],
      "metadata": {
        "colab": {
          "base_uri": "https://localhost:8080/",
          "height": 17
        },
        "id": "Huave8QibVXO",
        "outputId": "e3a53846-e574-4ffc-d021-77179bb7a5c7"
      },
      "execution_count": 3,
      "outputs": [
        {
          "output_type": "display_data",
          "data": {
            "text/plain": [
              "<IPython.core.display.HTML object>"
            ],
            "text/html": [
              "\n",
              "            <style>\n",
              "                .geemap-dark {\n",
              "                    --jp-widgets-color: white;\n",
              "                    --jp-widgets-label-color: white;\n",
              "                    --jp-ui-font-color1: white;\n",
              "                    --jp-layout-color2: #454545;\n",
              "                    background-color: #383838;\n",
              "                }\n",
              "\n",
              "                .geemap-dark .jupyter-button {\n",
              "                    --jp-layout-color3: #383838;\n",
              "                }\n",
              "\n",
              "                .geemap-colab {\n",
              "                    background-color: var(--colab-primary-surface-color, white);\n",
              "                }\n",
              "\n",
              "                .geemap-colab .jupyter-button {\n",
              "                    --jp-layout-color3: var(--colab-primary-surface-color, white);\n",
              "                }\n",
              "            </style>\n",
              "            "
            ]
          },
          "metadata": {}
        }
      ]
    },
    {
      "cell_type": "code",
      "source": [
        "# Define variables\n",
        "country_name = 'Italy'\n",
        "region_name = 'Lombardia'\n",
        "city_name = 'Lecco'\n",
        "time_start = '2024-01-01'\n",
        "time_end = '2024-12-30'"
      ],
      "metadata": {
        "colab": {
          "base_uri": "https://localhost:8080/",
          "height": 17
        },
        "id": "oqkPhxAhbsSH",
        "outputId": "7065520e-1c91-4ae6-a687-10e2ed8097fa"
      },
      "execution_count": 70,
      "outputs": [
        {
          "output_type": "display_data",
          "data": {
            "text/plain": [
              "<IPython.core.display.HTML object>"
            ],
            "text/html": [
              "\n",
              "            <style>\n",
              "                .geemap-dark {\n",
              "                    --jp-widgets-color: white;\n",
              "                    --jp-widgets-label-color: white;\n",
              "                    --jp-ui-font-color1: white;\n",
              "                    --jp-layout-color2: #454545;\n",
              "                    background-color: #383838;\n",
              "                }\n",
              "\n",
              "                .geemap-dark .jupyter-button {\n",
              "                    --jp-layout-color3: #383838;\n",
              "                }\n",
              "\n",
              "                .geemap-colab {\n",
              "                    background-color: var(--colab-primary-surface-color, white);\n",
              "                }\n",
              "\n",
              "                .geemap-colab .jupyter-button {\n",
              "                    --jp-layout-color3: var(--colab-primary-surface-color, white);\n",
              "                }\n",
              "            </style>\n",
              "            "
            ]
          },
          "metadata": {}
        }
      ]
    },
    {
      "cell_type": "code",
      "source": [
        "# Load and filter administrative boundaries\n",
        "roi = (ee.FeatureCollection(\"FAO/GAUL_SIMPLIFIED_500m/2015/level2\")\n",
        "          .filter(ee.Filter.eq('ADM0_NAME', country_name))\n",
        "          .filter(ee.Filter.eq('ADM1_NAME', region_name))\n",
        "          .filter(ee.Filter.eq('ADM2_NAME', city_name)))"
      ],
      "metadata": {
        "colab": {
          "base_uri": "https://localhost:8080/",
          "height": 17
        },
        "id": "_esv6VzzbcA6",
        "outputId": "8643e384-e80e-4a6f-e2fa-46e604b9b1b3"
      },
      "execution_count": 71,
      "outputs": [
        {
          "output_type": "display_data",
          "data": {
            "text/plain": [
              "<IPython.core.display.HTML object>"
            ],
            "text/html": [
              "\n",
              "            <style>\n",
              "                .geemap-dark {\n",
              "                    --jp-widgets-color: white;\n",
              "                    --jp-widgets-label-color: white;\n",
              "                    --jp-ui-font-color1: white;\n",
              "                    --jp-layout-color2: #454545;\n",
              "                    background-color: #383838;\n",
              "                }\n",
              "\n",
              "                .geemap-dark .jupyter-button {\n",
              "                    --jp-layout-color3: #383838;\n",
              "                }\n",
              "\n",
              "                .geemap-colab {\n",
              "                    background-color: var(--colab-primary-surface-color, white);\n",
              "                }\n",
              "\n",
              "                .geemap-colab .jupyter-button {\n",
              "                    --jp-layout-color3: var(--colab-primary-surface-color, white);\n",
              "                }\n",
              "            </style>\n",
              "            "
            ]
          },
          "metadata": {}
        }
      ]
    },
    {
      "cell_type": "code",
      "source": [
        "sentinel = (ee.ImageCollection(\"COPERNICUS/S2_SR_HARMONIZED\")\n",
        "    .filterBounds(roi)\n",
        "    .filterDate(time_start, time_end)\n",
        "    .filter(ee.Filter.lt('CLOUDY_PIXEL_PERCENTAGE', 45))\n",
        ")\n"
      ],
      "metadata": {
        "colab": {
          "base_uri": "https://localhost:8080/",
          "height": 17
        },
        "id": "EYACiVdf7Bjr",
        "outputId": "441d9dc7-d70d-47d7-e634-8f0d47fb83c0"
      },
      "execution_count": 72,
      "outputs": [
        {
          "output_type": "display_data",
          "data": {
            "text/plain": [
              "<IPython.core.display.HTML object>"
            ],
            "text/html": [
              "\n",
              "            <style>\n",
              "                .geemap-dark {\n",
              "                    --jp-widgets-color: white;\n",
              "                    --jp-widgets-label-color: white;\n",
              "                    --jp-ui-font-color1: white;\n",
              "                    --jp-layout-color2: #454545;\n",
              "                    background-color: #383838;\n",
              "                }\n",
              "\n",
              "                .geemap-dark .jupyter-button {\n",
              "                    --jp-layout-color3: #383838;\n",
              "                }\n",
              "\n",
              "                .geemap-colab {\n",
              "                    background-color: var(--colab-primary-surface-color, white);\n",
              "                }\n",
              "\n",
              "                .geemap-colab .jupyter-button {\n",
              "                    --jp-layout-color3: var(--colab-primary-surface-color, white);\n",
              "                }\n",
              "            </style>\n",
              "            "
            ]
          },
          "metadata": {}
        }
      ]
    },
    {
      "cell_type": "code",
      "source": [
        "parameters = sentinel.map(lambda img:\n",
        "    (ee.Image.cat([\n",
        "        img.select('B.*').multiply(0.0001).normalizedDifference(['B8', 'B4']).rename('ndvi'),\n",
        "        img.select('B.*').multiply(0.0001)\n",
        "           .expression('((1 - swir) ** 2) / (2 * swir)', {'swir': img.select('B.*').multiply(0.0001).select('B12')})\n",
        "           .rename('str')\n",
        "    ])\n",
        "    .copyProperties(img, img.propertyNames()))\n",
        ")"
      ],
      "metadata": {
        "colab": {
          "base_uri": "https://localhost:8080/",
          "height": 17
        },
        "id": "jeDm7gYFoRA1",
        "outputId": "a050bf0f-4831-40ac-91a4-4c55e72b6680"
      },
      "execution_count": 73,
      "outputs": [
        {
          "output_type": "display_data",
          "data": {
            "text/plain": [
              "<IPython.core.display.HTML object>"
            ],
            "text/html": [
              "\n",
              "            <style>\n",
              "                .geemap-dark {\n",
              "                    --jp-widgets-color: white;\n",
              "                    --jp-widgets-label-color: white;\n",
              "                    --jp-ui-font-color1: white;\n",
              "                    --jp-layout-color2: #454545;\n",
              "                    background-color: #383838;\n",
              "                }\n",
              "\n",
              "                .geemap-dark .jupyter-button {\n",
              "                    --jp-layout-color3: #383838;\n",
              "                }\n",
              "\n",
              "                .geemap-colab {\n",
              "                    background-color: var(--colab-primary-surface-color, white);\n",
              "                }\n",
              "\n",
              "                .geemap-colab .jupyter-button {\n",
              "                    --jp-layout-color3: var(--colab-primary-surface-color, white);\n",
              "                }\n",
              "            </style>\n",
              "            "
            ]
          },
          "metadata": {}
        }
      ]
    },
    {
      "cell_type": "code",
      "source": [
        "str_full_cover = parameters.map(lambda img:\n",
        "    (img.select('str')\n",
        "        .updateMask(img.select('ndvi').gt(0.3))\n",
        "        .copyProperties(img, img.propertyNames()))\n",
        ")"
      ],
      "metadata": {
        "colab": {
          "base_uri": "https://localhost:8080/",
          "height": 17
        },
        "id": "kEc2qtJ-ttKW",
        "outputId": "10ecd366-2685-4baa-9edf-13f1bb392b39"
      },
      "execution_count": 74,
      "outputs": [
        {
          "output_type": "display_data",
          "data": {
            "text/plain": [
              "<IPython.core.display.HTML object>"
            ],
            "text/html": [
              "\n",
              "            <style>\n",
              "                .geemap-dark {\n",
              "                    --jp-widgets-color: white;\n",
              "                    --jp-widgets-label-color: white;\n",
              "                    --jp-ui-font-color1: white;\n",
              "                    --jp-layout-color2: #454545;\n",
              "                    background-color: #383838;\n",
              "                }\n",
              "\n",
              "                .geemap-dark .jupyter-button {\n",
              "                    --jp-layout-color3: #383838;\n",
              "                }\n",
              "\n",
              "                .geemap-colab {\n",
              "                    background-color: var(--colab-primary-surface-color, white);\n",
              "                }\n",
              "\n",
              "                .geemap-colab .jupyter-button {\n",
              "                    --jp-layout-color3: var(--colab-primary-surface-color, white);\n",
              "                }\n",
              "            </style>\n",
              "            "
            ]
          },
          "metadata": {}
        }
      ]
    },
    {
      "cell_type": "code",
      "source": [
        "str_bareland = parameters.map(lambda img:\n",
        "    (img.select('str')\n",
        "        .updateMask(\n",
        "            img.select('ndvi').gte(0).And(img.select('ndvi').lt(0.2))\n",
        "        )\n",
        "        .copyProperties(img, img.propertyNames()))\n",
        ")"
      ],
      "metadata": {
        "colab": {
          "base_uri": "https://localhost:8080/",
          "height": 17
        },
        "id": "3Abmf73I77Dc",
        "outputId": "ccb73913-1267-4a6c-c5e0-f1d904f581be"
      },
      "execution_count": 75,
      "outputs": [
        {
          "output_type": "display_data",
          "data": {
            "text/plain": [
              "<IPython.core.display.HTML object>"
            ],
            "text/html": [
              "\n",
              "            <style>\n",
              "                .geemap-dark {\n",
              "                    --jp-widgets-color: white;\n",
              "                    --jp-widgets-label-color: white;\n",
              "                    --jp-ui-font-color1: white;\n",
              "                    --jp-layout-color2: #454545;\n",
              "                    background-color: #383838;\n",
              "                }\n",
              "\n",
              "                .geemap-dark .jupyter-button {\n",
              "                    --jp-layout-color3: #383838;\n",
              "                }\n",
              "\n",
              "                .geemap-colab {\n",
              "                    background-color: var(--colab-primary-surface-color, white);\n",
              "                }\n",
              "\n",
              "                .geemap-colab .jupyter-button {\n",
              "                    --jp-layout-color3: var(--colab-primary-surface-color, white);\n",
              "                }\n",
              "            </style>\n",
              "            "
            ]
          },
          "metadata": {}
        }
      ]
    },
    {
      "cell_type": "code",
      "source": [
        "vw = ee.Number(str_full_cover.max().reduceRegion(\n",
        "    reducer=ee.Reducer.max(), geometry=roi, scale=100\n",
        ").values().get(0))\n",
        "\n",
        "vd = ee.Number(str_full_cover.min().reduceRegion(\n",
        "    reducer=ee.Reducer.min(), geometry=roi, scale=100\n",
        ").values().get(0))\n",
        "\n",
        "iw = ee.Number(str_bareland.max().reduceRegion(\n",
        "    reducer=ee.Reducer.max(), geometry=roi, scale=100\n",
        ").values().get(0))\n",
        "\n",
        "id = ee.Number(str_bareland.min().reduceRegion(\n",
        "    reducer=ee.Reducer.min(), geometry=roi, scale=100\n",
        ").values().get(0))\n",
        "\n",
        "sw = vw.subtract(iw)\n",
        "sd = vd.subtract(id)"
      ],
      "metadata": {
        "colab": {
          "base_uri": "https://localhost:8080/",
          "height": 17
        },
        "id": "8MD9PU4H8CZk",
        "outputId": "a62f8b2f-5a38-4722-d424-2fa02dd26d0b"
      },
      "execution_count": 76,
      "outputs": [
        {
          "output_type": "display_data",
          "data": {
            "text/plain": [
              "<IPython.core.display.HTML object>"
            ],
            "text/html": [
              "\n",
              "            <style>\n",
              "                .geemap-dark {\n",
              "                    --jp-widgets-color: white;\n",
              "                    --jp-widgets-label-color: white;\n",
              "                    --jp-ui-font-color1: white;\n",
              "                    --jp-layout-color2: #454545;\n",
              "                    background-color: #383838;\n",
              "                }\n",
              "\n",
              "                .geemap-dark .jupyter-button {\n",
              "                    --jp-layout-color3: #383838;\n",
              "                }\n",
              "\n",
              "                .geemap-colab {\n",
              "                    background-color: var(--colab-primary-surface-color, white);\n",
              "                }\n",
              "\n",
              "                .geemap-colab .jupyter-button {\n",
              "                    --jp-layout-color3: var(--colab-primary-surface-color, white);\n",
              "                }\n",
              "            </style>\n",
              "            "
            ]
          },
          "metadata": {}
        }
      ]
    },
    {
      "cell_type": "code",
      "source": [
        "sm = parameters.map(lambda img:\n",
        "    (img.expression(\n",
        "        '(id + sd * ndvi - str) / (id - iw + (sd - sw) * ndvi)', {\n",
        "            'id': id,\n",
        "            'sd': sd,\n",
        "            'ndvi': img.select('ndvi'),\n",
        "            'str': img.select('str'),\n",
        "            'iw': iw,\n",
        "            'sw': sw\n",
        "        })\n",
        "    .rename('soil_moisture')\n",
        "    .multiply(1000)\n",
        "    .updateMask(img.select('ndvi').lt(-0.1).Not())\n",
        "    .copyProperties(img, img.propertyNames()))\n",
        ")"
      ],
      "metadata": {
        "colab": {
          "base_uri": "https://localhost:8080/",
          "height": 17
        },
        "id": "PvycIe628CWc",
        "outputId": "11f35566-f408-431c-a5a8-41a232e97d9b"
      },
      "execution_count": 77,
      "outputs": [
        {
          "output_type": "display_data",
          "data": {
            "text/plain": [
              "<IPython.core.display.HTML object>"
            ],
            "text/html": [
              "\n",
              "            <style>\n",
              "                .geemap-dark {\n",
              "                    --jp-widgets-color: white;\n",
              "                    --jp-widgets-label-color: white;\n",
              "                    --jp-ui-font-color1: white;\n",
              "                    --jp-layout-color2: #454545;\n",
              "                    background-color: #383838;\n",
              "                }\n",
              "\n",
              "                .geemap-dark .jupyter-button {\n",
              "                    --jp-layout-color3: #383838;\n",
              "                }\n",
              "\n",
              "                .geemap-colab {\n",
              "                    background-color: var(--colab-primary-surface-color, white);\n",
              "                }\n",
              "\n",
              "                .geemap-colab .jupyter-button {\n",
              "                    --jp-layout-color3: var(--colab-primary-surface-color, white);\n",
              "                }\n",
              "            </style>\n",
              "            "
            ]
          },
          "metadata": {}
        }
      ]
    },
    {
      "cell_type": "code",
      "source": [
        "def get_band_values(img):\n",
        "    image_date = img.get('system:time_start')\n",
        "    image_date = ee.Date(image_date).format('YYYY-MM-dd').getInfo()\n",
        "\n",
        "    region_values = img.reduceRegion(\n",
        "        reducer=ee.Reducer.mean(),\n",
        "        geometry=roi,\n",
        "        scale=30,\n",
        "        maxPixels=1e8\n",
        "    )\n",
        "\n",
        "    return (image_date, region_values)\n",
        "\n",
        "band_values_dict = {}\n",
        "\n",
        "for i in range(sm.size().getInfo()):\n",
        "    img = sm.toList(sm.size()).get(i)\n",
        "    date, band_values = get_band_values(ee.Image(img))\n",
        "    band_values_dict[date] = band_values.getInfo()  # Add the data to the dictionary\n",
        "\n",
        "import matplotlib.pyplot as plt\n",
        "\n",
        "\n",
        "dates = []\n",
        "soil_moisture_values = []\n",
        "\n",
        "for date, band_values in band_values_dict.items():\n",
        "    if 'soil_moisture' in band_values:  # Check if the soil moisture band exists\n",
        "        soil_moisture_values.append(band_values['soil_moisture'])\n",
        "        dates.append(date)\n",
        "\n",
        "date_nums = np.arange(len(dates))\n",
        "\n",
        "slope, intercept = np.polyfit(date_nums, soil_moisture_values, 1)\n",
        "trendline = np.polyval([slope, intercept], date_nums)\n",
        "\n",
        "plt.figure(figsize=(20, 6))\n",
        "plt.plot(dates, soil_moisture_values, marker='o', linestyle='-', color='b', label='Soil Moisture')\n",
        "plt.plot(dates, trendline, color='r', linestyle='--', label='Trendline')\n",
        "\n",
        "\n",
        "plt.xlabel('Date')\n",
        "plt.ylabel('Soil Moisture')\n",
        "plt.title('Soil Moisture over Time')\n",
        "plt.xticks(rotation=45)\n",
        "plt.grid(True)\n",
        "plt.legend()\n",
        "plt.tight_layout()\n",
        "plt.savefig('soil_moisture_trendline.png', format='png')"
      ],
      "metadata": {
        "id": "bD0Tqalb3xnv"
      },
      "execution_count": 78,
      "outputs": []
    }
  ]
}